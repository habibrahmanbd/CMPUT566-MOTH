{
  "nbformat": 4,
  "nbformat_minor": 0,
  "metadata": {
    "colab": {
      "name": "fixing Proj mid.ipynb",
      "provenance": [],
      "collapsed_sections": []
    },
    "kernelspec": {
      "name": "python3",
      "display_name": "Python 3"
    },
    "language_info": {
      "name": "python"
    },
    "accelerator": "GPU"
  },
  "cells": [
    {
      "cell_type": "code",
      "metadata": {
        "colab": {
          "base_uri": "https://localhost:8080/"
        },
        "id": "l0-3-QdSaDX3",
        "outputId": "c769d214-5587-47db-da92-f56435814a4f"
      },
      "source": [
        "#Ref1: https://www.analyticsvidhya.com/blog/2019/01/neural-machine-translation-keras/\n",
        "#Ref2: https://machinelearningmastery.com/develop-neural-machine-translation-system-keras/\n",
        "\n",
        "from pickle import load\n",
        "\n",
        "from keras.preprocessing.text import Tokenizer\n",
        "from keras.preprocessing.sequence import pad_sequences\n",
        "from keras.utils import to_categorical\n",
        "from keras.utils.vis_utils import plot_model\n",
        "from keras.models import Sequential\n",
        "from keras.layers import LSTM\n",
        "from keras.layers import Dense, Dropout\n",
        "from keras.layers import Embedding\n",
        "from keras.layers import RepeatVector\n",
        "from keras.layers import TimeDistributed\n",
        "from keras.callbacks import ModelCheckpoint\n",
        "\n",
        "import tensorflow as tf\n",
        "import os\n",
        "import string\n",
        "import re\n",
        "from numpy import array, argmax, random, take\n",
        "import pandas as pd\n",
        "import keras\n",
        "import matplotlib.pyplot as plt\n",
        "pd.set_option('display.max_colwidth', 200)\n",
        "\n",
        "from keras import backend as K\n",
        "from keras import __version__\n",
        "print('Using Keras version:', __version__, 'backend:', K.backend())"
      ],
      "execution_count": 11,
      "outputs": [
        {
          "output_type": "stream",
          "text": [
            "Using Keras version: 2.4.3 backend: tensorflow\n"
          ],
          "name": "stdout"
        }
      ]
    },
    {
      "cell_type": "code",
      "metadata": {
        "id": "b3K7iSwsRPf4"
      },
      "source": [
        "def read_dataset(file_path):\n",
        "    #Open from .txt files\n",
        "    dataset = []\n",
        "    with open(file_path, encoding='utf-8') as f:\n",
        "        dataset = f.readlines()\n",
        "        f.close()\n",
        "    return dataset\n",
        "\n",
        "def split_input_target(dataset):\n",
        "    datasetLength = len(dataset)\n",
        "\n",
        "    # Split into English Sentence and Portuguese Sentences\n",
        "    eng_sen =  [] #English Sentence\n",
        "    port_sen =  [] #Portuguese Sentence\n",
        "\n",
        "    for line in dataset:\n",
        "        splited = line.split('|')\n",
        "        eng_sen.append(splited[0])\n",
        "        port_sen.append(splited[1])\n",
        "\n",
        "    return [eng_sen, port_sen]\n"
      ],
      "execution_count": 12,
      "outputs": []
    },
    {
      "cell_type": "code",
      "metadata": {
        "id": "J0nOUOjYI9Tj"
      },
      "source": [
        "def cleaning_punctuation_and_uppercase(sentence_list):\n",
        "    sentence_list  = [(sen.translate(str.maketrans('', '', string.punctuation))).lower() for sen in sentence_list]\n",
        "    return sentence_list\n",
        "\n",
        "def visualize_length_of_sentences(title, senX, senY):\n",
        "    senX = [len(sen.split()) for sen in senX]\n",
        "    senY = [len(sen.split()) for sen in senY]\n",
        "    length_df = pd.DataFrame({'English': senX, 'Portuguese': senY})\n",
        "    length_df.hist(bins = 30)\n",
        "    plt.xticks(range(0, 15, 1))\n",
        "    plt.xlabel('#Word', fontsize=18)\n",
        "    plt.ylabel('#Sentences', fontsize=16)\n",
        "    fig = plt.figure()\n",
        "    fig.suptitle(title, fontsize=20)\n",
        "    #fig.save(title+\".jpg\")\n",
        "    plt.show()"
      ],
      "execution_count": 13,
      "outputs": []
    },
    {
      "cell_type": "code",
      "metadata": {
        "id": "4QZfzsxWJkNy",
        "colab": {
          "base_uri": "https://localhost:8080/"
        },
        "outputId": "103d73a6-4660-40b2-d7fa-5648a87eeab6"
      },
      "source": [
        "def tokenizer(sentence_list):\n",
        "    tok = tf.keras.preprocessing.text.Tokenizer()\n",
        "    tok.fit_on_texts(sentence_list)\n",
        "    return  tok #tok.sequences_to_matrix(tok.texts_to_sequences(sentence_list), mode='tfidf')\n",
        "\n",
        "# Text Encoding into sequences and pad to make equal feature length to Train NN\n",
        "def encode_text_to_sequences(tokenizer, max_sen_length, sentence_list):\n",
        "    # integer encode sequences\n",
        "    seq = tokenizer.texts_to_sequences(sentence_list)\n",
        "    # pad sequences with 0 values\n",
        "    seq = keras.preprocessing.sequence.pad_sequences(seq, maxlen=max_sen_length, padding='post')\n",
        "    return seq\n",
        "\n",
        "def max_length(data):\n",
        "    mx = 0\n",
        "    for i in range(len(data)):\n",
        "        mx = max(mx, len(data[i]))\n",
        "    return mx\n",
        "\n",
        "# Validation Data Process\n",
        "validation_dataset = read_dataset(\"dev.txt\")\n",
        "val_eng_sen, val_port_sen = split_input_target(validation_dataset)\n",
        "\n",
        "val_eng_sen = cleaning_punctuation_and_uppercase(val_eng_sen)\n",
        "val_port_sen = cleaning_punctuation_and_uppercase(val_port_sen)\n",
        "\n",
        "print('Validation English Datalen: '+str(len(val_eng_sen)))\n",
        "print('Validation Portugu Datalen: '+str(len(val_port_sen)))\n",
        "\n",
        "# Test Data Process\n",
        "test_dataset = read_dataset(\"test.txt\")\n",
        "test_eng_sen, test_port_sen = split_input_target(test_dataset)\n",
        "\n",
        "test_eng_sen = cleaning_punctuation_and_uppercase(test_eng_sen)\n",
        "test_port_sen = cleaning_punctuation_and_uppercase(test_port_sen)\n",
        "\n",
        "print('Test English Datalen: '+str(len(test_eng_sen)))\n",
        "print('Test Portugu Datalen: '+str(len(test_port_sen)))\n",
        "    "
      ],
      "execution_count": 14,
      "outputs": [
        {
          "output_type": "stream",
          "text": [
            "Validation English Datalen: 60294\n",
            "Validation Portugu Datalen: 60294\n",
            "Test English Datalen: 67865\n",
            "Test Portugu Datalen: 67865\n"
          ],
          "name": "stdout"
        }
      ]
    },
    {
      "cell_type": "code",
      "metadata": {
        "colab": {
          "base_uri": "https://localhost:8080/"
        },
        "id": "l_BGrEgiKxim",
        "outputId": "030ed52b-f456-4c6f-fcc4-8bab73edfa35"
      },
      "source": [
        "    dataset = read_dataset(\"dataset_2.txt\")\n",
        "\n",
        "    #dataset = read_dataset(root + 'datasets/modified_datasets/dataset_'+str(i)+'.txt')\n",
        "    eng_sen, port_sen = split_input_target(dataset)\n",
        "\n",
        "    #Cleaning\n",
        "    eng_sen = cleaning_punctuation_and_uppercase(eng_sen)\n",
        "    port_sen = cleaning_punctuation_and_uppercase(port_sen)\n",
        "\n",
        "    #Plot Sentences\n",
        "    #visualize_length_of_sentences(\"modified dataset \"+str(i), eng_sen, port_sen)\n",
        "\n",
        "    #tokenize\n",
        "    eng_tok = tokenizer(eng_sen+val_eng_sen+test_eng_sen)\n",
        "    port_tok = tokenizer(port_sen+val_port_sen+test_port_sen)\n",
        "\n",
        "    #Max word length in Sentence\n",
        "    max_eng_sen_word_length  = max_length(eng_sen+val_eng_sen+test_eng_sen)\n",
        "    max_port_sen_word_length = max_length(port_sen+val_port_sen+test_port_sen)\n",
        "\n",
        "    #Vocab Size\n",
        "    eng_vocab_size = len(eng_tok.word_index)+1\n",
        "    port_vocab_size = len(port_tok.word_index)+1\n",
        "    print('English Vocab Size: ' + str(eng_vocab_size))\n",
        "    print('Portugu Vocab Size: ' + str(port_vocab_size))\n",
        "\n",
        "    #train encoding text to sequence\n",
        "    train_eng_enc_seq = encode_text_to_sequences(eng_tok, max_eng_sen_word_length, eng_sen)\n",
        "    train_port_enc_seq = encode_text_to_sequences(port_tok, max_port_sen_word_length, port_sen)\n",
        "\n",
        "    #validation enc text to seq\n",
        "    val_eng_enc_seq = encode_text_to_sequences(eng_tok, max_eng_sen_word_length, val_eng_sen)\n",
        "    val_port_enc_seq = encode_text_to_sequences(port_tok, max_port_sen_word_length, val_port_sen)\n",
        "\n",
        "    #test enc text to seq\n",
        "    test_eng_enc_seq = encode_text_to_sequences(eng_tok, max_eng_sen_word_length, test_eng_sen)\n",
        "    test_port_enc_seq = encode_text_to_sequences(port_tok, max_port_sen_word_length, test_port_sen)\n",
        "\n"
      ],
      "execution_count": 15,
      "outputs": [
        {
          "output_type": "stream",
          "text": [
            "English Vocab Size: 1794\n",
            "Portugu Vocab Size: 6517\n"
          ],
          "name": "stdout"
        }
      ]
    },
    {
      "cell_type": "code",
      "metadata": {
        "colab": {
          "base_uri": "https://localhost:8080/"
        },
        "id": "tBC4ADewdxr0",
        "outputId": "30a62dd8-3a58-4cae-a281-642793321b7b"
      },
      "source": [
        "# define NMT model\n",
        "def define_model(src_vocab, tar_vocab, src_timesteps, tar_timesteps, hidden_size):\n",
        "  use_dropout = True\n",
        "  model = Sequential()\n",
        "  model.add(Embedding(src_vocab, hidden_size, input_length = src_timesteps))\n",
        "  model.add(LSTM(hidden_size))\n",
        "  model.add(RepeatVector(tar_timesteps))\n",
        "  model.add(LSTM(hidden_size, return_sequences=True))\n",
        "  if use_dropout:\n",
        "    model.add(Dropout(0.5))\n",
        "  model.add(TimeDistributed(Dense(tar_vocab, activation = 'softmax')))\n",
        "  \n",
        "  return model\n",
        "\n",
        "# define model\n",
        "model = define_model(eng_vocab_size, port_vocab_size, max_eng_sen_word_length, max_port_sen_word_length, 256)\n",
        "model.compile(optimizer='adam', loss='sparse_categorical_crossentropy')\n",
        "# summarize defined model\n",
        "print(model.summary())"
      ],
      "execution_count": 16,
      "outputs": [
        {
          "output_type": "stream",
          "text": [
            "Model: \"sequential\"\n",
            "_________________________________________________________________\n",
            "Layer (type)                 Output Shape              Param #   \n",
            "=================================================================\n",
            "embedding (Embedding)        (None, 65, 256)           459264    \n",
            "_________________________________________________________________\n",
            "lstm (LSTM)                  (None, 256)               525312    \n",
            "_________________________________________________________________\n",
            "repeat_vector (RepeatVector) (None, 86, 256)           0         \n",
            "_________________________________________________________________\n",
            "lstm_1 (LSTM)                (None, 86, 256)           525312    \n",
            "_________________________________________________________________\n",
            "dropout (Dropout)            (None, 86, 256)           0         \n",
            "_________________________________________________________________\n",
            "time_distributed (TimeDistri (None, 86, 6517)          1674869   \n",
            "=================================================================\n",
            "Total params: 3,184,757\n",
            "Trainable params: 3,184,757\n",
            "Non-trainable params: 0\n",
            "_________________________________________________________________\n",
            "None\n"
          ],
          "name": "stdout"
        }
      ]
    },
    {
      "cell_type": "code",
      "metadata": {
        "colab": {
          "base_uri": "https://localhost:8080/",
          "height": 701
        },
        "id": "b2NPeIi4ZhfJ",
        "outputId": "0bfadc4e-8e27-4ff1-c384-e8780d7a3835"
      },
      "source": [
        "filename = 'model.h1.04_apr_21'\n",
        "checkpoint = ModelCheckpoint(filename, monitor='val_loss', verbose=1, save_best_only=True, mode='min')\n",
        "\n",
        "# train model\n",
        "history = model.fit(train_eng_enc_seq, train_port_enc_seq, epochs=5, batch_size=64, validation_split=0, validation_data = [val_eng_enc_seq, val_port_enc_seq], callbacks = [checkpoint], verbose=1)\n",
        "\n",
        "#model.save('model.h1.04_apr_21')\n",
        "\n",
        "plt.plot(history.history['loss'])\n",
        "plt.plot(history.history['val_loss'])\n",
        "plt.legend(['train','validation'])\n",
        "plt.show()"
      ],
      "execution_count": 17,
      "outputs": [
        {
          "output_type": "stream",
          "text": [
            "Epoch 1/5\n",
            "1304/1304 [==============================] - 122s 68ms/step - loss: 0.9455 - val_loss: 0.0000e+00\n",
            "\n",
            "Epoch 00001: val_loss improved from inf to 0.00000, saving model to model.h1.04_apr_21\n"
          ],
          "name": "stdout"
        },
        {
          "output_type": "stream",
          "text": [
            "WARNING:absl:Found untraced functions such as lstm_cell_layer_call_fn, lstm_cell_layer_call_and_return_conditional_losses, lstm_cell_1_layer_call_fn, lstm_cell_1_layer_call_and_return_conditional_losses, lstm_cell_layer_call_fn while saving (showing 5 of 10). These functions will not be directly callable after loading.\n",
            "WARNING:absl:Found untraced functions such as lstm_cell_layer_call_fn, lstm_cell_layer_call_and_return_conditional_losses, lstm_cell_1_layer_call_fn, lstm_cell_1_layer_call_and_return_conditional_losses, lstm_cell_layer_call_fn while saving (showing 5 of 10). These functions will not be directly callable after loading.\n"
          ],
          "name": "stderr"
        },
        {
          "output_type": "stream",
          "text": [
            "INFO:tensorflow:Assets written to: model.h1.04_apr_21/assets\n"
          ],
          "name": "stdout"
        },
        {
          "output_type": "stream",
          "text": [
            "INFO:tensorflow:Assets written to: model.h1.04_apr_21/assets\n"
          ],
          "name": "stderr"
        },
        {
          "output_type": "stream",
          "text": [
            "Epoch 2/5\n",
            "1304/1304 [==============================] - 90s 69ms/step - loss: 0.5411 - val_loss: 0.0000e+00\n",
            "\n",
            "Epoch 00002: val_loss did not improve from 0.00000\n",
            "Epoch 3/5\n",
            "1304/1304 [==============================] - 90s 69ms/step - loss: 0.5343 - val_loss: 0.0000e+00\n",
            "\n",
            "Epoch 00003: val_loss did not improve from 0.00000\n",
            "Epoch 4/5\n",
            "1304/1304 [==============================] - 90s 69ms/step - loss: 0.5297 - val_loss: 0.0000e+00\n",
            "\n",
            "Epoch 00004: val_loss did not improve from 0.00000\n",
            "Epoch 5/5\n",
            "1304/1304 [==============================] - 90s 69ms/step - loss: 0.5274 - val_loss: 0.0000e+00\n",
            "\n",
            "Epoch 00005: val_loss did not improve from 0.00000\n"
          ],
          "name": "stdout"
        },
        {
          "output_type": "display_data",
          "data": {
            "image/png": "[encoded data removed]",
            "text/plain": [
              "<Figure size 432x288 with 1 Axes>"
            ]
          },
          "metadata": {
            "tags": [],
            "needs_background": "light"
          }
        }
      ]
    }
  ]
}