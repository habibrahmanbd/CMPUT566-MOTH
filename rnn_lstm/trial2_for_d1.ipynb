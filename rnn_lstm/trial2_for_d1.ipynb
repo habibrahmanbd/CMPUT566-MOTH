{
  "nbformat": 4,
  "nbformat_minor": 0,
  "metadata": {
    "colab": {
      "name": "trial2 for d1.ipynb",
      "provenance": [],
      "collapsed_sections": []
    },
    "kernelspec": {
      "name": "python3",
      "display_name": "Python 3"
    },
    "language_info": {
      "name": "python"
    },
    "accelerator": "GPU"
  },
  "cells": [
    {
      "cell_type": "code",
      "metadata": {
        "colab": {
          "base_uri": "https://localhost:8080/"
        },
        "id": "l0-3-QdSaDX3",
        "outputId": "c9e8024a-24f3-4ffc-f86d-8fdad0e1b97b"
      },
      "source": [
        "#Ref1: https://www.analyticsvidhya.com/blog/2019/01/neural-machine-translation-keras/\n",
        "#Ref2: https://machinelearningmastery.com/develop-neural-machine-translation-system-keras/\n",
        "\n",
        "from pickle import load\n",
        "\n",
        "from keras.preprocessing.text import Tokenizer\n",
        "from keras.preprocessing.sequence import pad_sequences\n",
        "from keras.utils import to_categorical\n",
        "from keras.utils.vis_utils import plot_model\n",
        "from keras.models import Sequential\n",
        "from keras.layers import LSTM\n",
        "from keras.layers import Dense, Dropout\n",
        "from keras.layers import Embedding\n",
        "from keras.layers import RepeatVector\n",
        "from keras.layers import TimeDistributed\n",
        "from keras.callbacks import ModelCheckpoint\n",
        "\n",
        "import tensorflow as tf\n",
        "import os\n",
        "import string\n",
        "import re\n",
        "from numpy import array, argmax, random, take\n",
        "import pandas as pd\n",
        "import keras\n",
        "import matplotlib.pyplot as plt\n",
        "pd.set_option('display.max_colwidth', 200)\n",
        "\n",
        "from keras import backend as K\n",
        "from keras import __version__\n",
        "print('Using Keras version:', __version__, 'backend:', K.backend())"
      ],
      "execution_count": 1,
      "outputs": [
        {
          "output_type": "stream",
          "text": [
            "Using Keras version: 2.4.3 backend: tensorflow\n"
          ],
          "name": "stdout"
        }
      ]
    },
    {
      "cell_type": "code",
      "metadata": {
        "id": "b3K7iSwsRPf4"
      },
      "source": [
        "def read_dataset(file_path):\n",
        "    #Open from .txt files\n",
        "    dataset = []\n",
        "    with open(file_path, encoding='utf-8') as f:\n",
        "        dataset = f.readlines()\n",
        "        f.close()\n",
        "    return dataset\n",
        "\n",
        "def split_input_target(dataset):\n",
        "    datasetLength = len(dataset)\n",
        "\n",
        "    # Split into English Sentence and Portuguese Sentences\n",
        "    eng_sen =  [] #English Sentence\n",
        "    port_sen =  [] #Portuguese Sentence\n",
        "\n",
        "    for line in dataset:\n",
        "        splited = line.split('|')\n",
        "        eng_sen.append(splited[0])\n",
        "        port_sen.append(splited[1])\n",
        "\n",
        "    return [eng_sen, port_sen]\n"
      ],
      "execution_count": 2,
      "outputs": []
    },
    {
      "cell_type": "code",
      "metadata": {
        "id": "J0nOUOjYI9Tj"
      },
      "source": [
        "def cleaning_punctuation_and_uppercase(sentence_list):\n",
        "    sentence_list  = [((sen.strip()).translate(str.maketrans('', '', string.punctuation))).lower() for sen in sentence_list]\n",
        "    return sentence_list\n",
        "\n",
        "def visualize_length_of_sentences(title, senX, senY):\n",
        "    senX = [len(sen.split()) for sen in senX]\n",
        "    senY = [len(sen.split()) for sen in senY]\n",
        "    length_df = pd.DataFrame({'English': senX, 'Portuguese': senY})\n",
        "    length_df.hist(bins = 30)\n",
        "    plt.xticks(range(0, 15, 1))\n",
        "    plt.xlabel('#Word', fontsize=18)\n",
        "    plt.ylabel('#Sentences', fontsize=16)\n",
        "    fig = plt.figure()\n",
        "    fig.suptitle(title, fontsize=20)\n",
        "    #fig.save(title+\".jpg\")\n",
        "    plt.show()"
      ],
      "execution_count": 3,
      "outputs": []
    },
    {
      "cell_type": "code",
      "metadata": {
        "id": "4QZfzsxWJkNy",
        "colab": {
          "base_uri": "https://localhost:8080/"
        },
        "outputId": "08c1acf2-cc76-44a4-b118-0fb8f94f6cd6"
      },
      "source": [
        "def tokenizer(sentence_list):\n",
        "    tok = tf.keras.preprocessing.text.Tokenizer()\n",
        "    tok.fit_on_texts(sentence_list)\n",
        "    return  tok #tok.sequences_to_matrix(tok.texts_to_sequences(sentence_list), mode='tfidf')\n",
        "\n",
        "# Text Encoding into sequences and pad to make equal feature length to Train NN\n",
        "def encode_text_to_sequences(tokenizer, max_sen_length, sentence_list):\n",
        "    # integer encode sequences\n",
        "    seq = tokenizer.texts_to_sequences(sentence_list)\n",
        "    # pad sequences with 0 values\n",
        "    seq = keras.preprocessing.sequence.pad_sequences(seq, maxlen=max_sen_length, padding='post')\n",
        "    return seq\n",
        "\n",
        "def max_length(data):\n",
        "    mx = 0\n",
        "    for i in range(len(data)):\n",
        "        mx = max(mx, len(data[i]))\n",
        "    return mx\n",
        "\n",
        "# Validation Data Process\n",
        "validation_dataset = read_dataset(\"dev_best.txt\")\n",
        "val_eng_sen, val_port_sen = split_input_target(validation_dataset)\n",
        "\n",
        "val_eng_sen = cleaning_punctuation_and_uppercase(val_eng_sen)\n",
        "val_port_sen = cleaning_punctuation_and_uppercase(val_port_sen)\n",
        "\n",
        "print('Validation English Datalen: '+str(len(val_eng_sen)))\n",
        "print('Validation Portugu Datalen: '+str(len(val_port_sen)))\n",
        "\n",
        "# Test Data Process\n",
        "test_dataset = read_dataset(\"test.txt\")\n",
        "test_eng_sen, test_port_sen = split_input_target(test_dataset)\n",
        "\n",
        "test_eng_sen = cleaning_punctuation_and_uppercase(test_eng_sen)\n",
        "test_port_sen = cleaning_punctuation_and_uppercase(test_port_sen)\n",
        "\n",
        "print('Test English Datalen: '+str(len(test_eng_sen)))\n",
        "print('Test Portugu Datalen: '+str(len(test_port_sen)))\n",
        "    "
      ],
      "execution_count": 4,
      "outputs": [
        {
          "output_type": "stream",
          "text": [
            "Validation English Datalen: 500\n",
            "Validation Portugu Datalen: 500\n",
            "Test English Datalen: 67865\n",
            "Test Portugu Datalen: 67865\n"
          ],
          "name": "stdout"
        }
      ]
    },
    {
      "cell_type": "code",
      "metadata": {
        "colab": {
          "base_uri": "https://localhost:8080/"
        },
        "id": "l_BGrEgiKxim",
        "outputId": "c04f2b6f-82f0-448a-c877-de84d2f877bb"
      },
      "source": [
        "    dataset = read_dataset(\"dataset_1.txt\")\n",
        "\n",
        "    #dataset = read_dataset(root + 'datasets/modified_datasets/dataset_'+str(i)+'.txt')\n",
        "    eng_sen, port_sen = split_input_target(dataset)\n",
        "\n",
        "    #Cleaning\n",
        "    eng_sen = cleaning_punctuation_and_uppercase(eng_sen)\n",
        "    port_sen = cleaning_punctuation_and_uppercase(port_sen)\n",
        "\n",
        "    #Plot Sentences\n",
        "    #visualize_length_of_sentences(\"modified dataset \"+str(i), eng_sen, port_sen)\n",
        "\n",
        "    #tokenize\n",
        "    eng_tok = tokenizer(eng_sen+val_eng_sen+test_eng_sen)\n",
        "    port_tok = tokenizer(port_sen+val_port_sen+test_port_sen)\n",
        "\n",
        "    #Max word length in Sentence\n",
        "    max_eng_sen_word_length  = max_length(eng_sen+val_eng_sen+test_eng_sen)\n",
        "    max_port_sen_word_length = max_length(port_sen+val_port_sen+test_port_sen)\n",
        "\n",
        "    #Vocab Size\n",
        "    eng_vocab_size = len(eng_tok.word_index)+1\n",
        "    port_vocab_size = len(port_tok.word_index)+1\n",
        "    print('English Vocab Size: ' + str(eng_vocab_size))\n",
        "    print('Portugu Vocab Size: ' + str(port_vocab_size))\n",
        "\n",
        "    #train encoding text to sequence\n",
        "    train_eng_enc_seq = encode_text_to_sequences(eng_tok, max_eng_sen_word_length, eng_sen)\n",
        "    train_port_enc_seq = encode_text_to_sequences(port_tok, max_port_sen_word_length, port_sen)\n",
        "\n",
        "    #validation enc text to seq\n",
        "    val_eng_enc_seq = encode_text_to_sequences(eng_tok, max_eng_sen_word_length, val_eng_sen)\n",
        "    val_port_enc_seq = encode_text_to_sequences(port_tok, max_port_sen_word_length, val_port_sen)\n",
        "\n",
        "    #test enc text to seq\n",
        "    test_eng_enc_seq = encode_text_to_sequences(eng_tok, max_eng_sen_word_length, test_eng_sen)\n",
        "    test_port_enc_seq = encode_text_to_sequences(port_tok, max_port_sen_word_length, test_port_sen)\n",
        "\n"
      ],
      "execution_count": 5,
      "outputs": [
        {
          "output_type": "stream",
          "text": [
            "English Vocab Size: 2584\n",
            "Portugu Vocab Size: 5156\n"
          ],
          "name": "stdout"
        }
      ]
    },
    {
      "cell_type": "code",
      "metadata": {
        "colab": {
          "base_uri": "https://localhost:8080/"
        },
        "id": "tBC4ADewdxr0",
        "outputId": "624ef3bd-2523-4b5b-efff-575b3e3bfa0d"
      },
      "source": [
        "# define NMT model\n",
        "def define_model(src_vocab, tar_vocab, src_timesteps, tar_timesteps, hidden_size):\n",
        "  use_dropout = True\n",
        "  model = Sequential()\n",
        "  model.add(Embedding(src_vocab, hidden_size, input_length = src_timesteps, mask_zero=True))\n",
        "  model.add(LSTM(hidden_size))\n",
        "  model.add(RepeatVector(tar_timesteps))\n",
        "  model.add(LSTM(hidden_size, return_sequences=True))\n",
        "  if use_dropout:\n",
        "    model.add(Dropout(0.5))\n",
        "  model.add(TimeDistributed(Dense(tar_vocab, activation = 'softmax')))\n",
        "  \n",
        "  return model\n",
        "\n",
        "# define model\n",
        "model = define_model(eng_vocab_size, port_vocab_size, max_eng_sen_word_length, max_port_sen_word_length, 512)\n",
        "\n",
        "model.compile(optimizer='adam', loss='sparse_categorical_crossentropy')\n",
        "# summarize defined model\n",
        "print(model.summary())"
      ],
      "execution_count": 6,
      "outputs": [
        {
          "output_type": "stream",
          "text": [
            "Model: \"sequential\"\n",
            "_________________________________________________________________\n",
            "Layer (type)                 Output Shape              Param #   \n",
            "=================================================================\n",
            "embedding (Embedding)        (None, 65, 512)           1323008   \n",
            "_________________________________________________________________\n",
            "lstm (LSTM)                  (None, 512)               2099200   \n",
            "_________________________________________________________________\n",
            "repeat_vector (RepeatVector) (None, 86, 512)           0         \n",
            "_________________________________________________________________\n",
            "lstm_1 (LSTM)                (None, 86, 512)           2099200   \n",
            "_________________________________________________________________\n",
            "dropout (Dropout)            (None, 86, 512)           0         \n",
            "_________________________________________________________________\n",
            "time_distributed (TimeDistri (None, 86, 5156)          2645028   \n",
            "=================================================================\n",
            "Total params: 8,166,436\n",
            "Trainable params: 8,166,436\n",
            "Non-trainable params: 0\n",
            "_________________________________________________________________\n",
            "None\n"
          ],
          "name": "stdout"
        }
      ]
    },
    {
      "cell_type": "code",
      "metadata": {
        "colab": {
          "base_uri": "https://localhost:8080/",
          "height": 1000
        },
        "id": "b2NPeIi4ZhfJ",
        "outputId": "a7e85b64-8937-40b1-9cac-9e751f4e645c"
      },
      "source": [
        "from google.colab import drive\n",
        "drive.mount('/content/gdrive')\n",
        "root = '/content/gdrive/MyDrive/Colab Notebooks/CMPUT566/'\n",
        "\n",
        "filename = 'model.h1.d1_11_apr_21'\n",
        "checkpoint = ModelCheckpoint(filename, monitor='val_loss', verbose=1, save_best_only=True, mode='min')\n",
        "\n",
        "# train model\n",
        "history = model.fit(train_eng_enc_seq, train_port_enc_seq, epochs=50, batch_size=64, validation_split=0, validation_data = (val_eng_enc_seq, val_port_enc_seq), callbacks = [checkpoint], verbose=1)\n",
        "\n",
        "model.save('model.h1.d1_11_apr_21')\n",
        "\n",
        "plt.plot(history.history['loss'])\n",
        "plt.plot(history.history['val_loss'])\n",
        "plt.legend(['train','validation'])\n",
        "plt.show()"
      ],
      "execution_count": 7,
      "outputs": [
        {
          "output_type": "stream",
          "text": [
            "Mounted at /content/gdrive\n",
            "Epoch 1/50\n",
            "63/63 [==============================] - 43s 118ms/step - loss: 3.0230 - val_loss: 0.7417\n",
            "\n",
            "Epoch 00001: val_loss improved from inf to 0.74168, saving model to model.h1.d1_11_apr_21\n"
          ],
          "name": "stdout"
        },
        {
          "output_type": "stream",
          "text": [
            "WARNING:absl:Found untraced functions such as lstm_cell_layer_call_fn, lstm_cell_layer_call_and_return_conditional_losses, lstm_cell_1_layer_call_fn, lstm_cell_1_layer_call_and_return_conditional_losses, lstm_cell_layer_call_fn while saving (showing 5 of 10). These functions will not be directly callable after loading.\n",
            "WARNING:absl:Found untraced functions such as lstm_cell_layer_call_fn, lstm_cell_layer_call_and_return_conditional_losses, lstm_cell_1_layer_call_fn, lstm_cell_1_layer_call_and_return_conditional_losses, lstm_cell_layer_call_fn while saving (showing 5 of 10). These functions will not be directly callable after loading.\n"
          ],
          "name": "stderr"
        },
        {
          "output_type": "stream",
          "text": [
            "INFO:tensorflow:Assets written to: model.h1.d1_11_apr_21/assets\n"
          ],
          "name": "stdout"
        },
        {
          "output_type": "stream",
          "text": [
            "INFO:tensorflow:Assets written to: model.h1.d1_11_apr_21/assets\n"
          ],
          "name": "stderr"
        },
        {
          "output_type": "stream",
          "text": [
            "Epoch 2/50\n",
            "63/63 [==============================] - 6s 92ms/step - loss: 0.7124 - val_loss: 0.6699\n",
            "\n",
            "Epoch 00002: val_loss improved from 0.74168 to 0.66988, saving model to model.h1.d1_11_apr_21\n"
          ],
          "name": "stdout"
        },
        {
          "output_type": "stream",
          "text": [
            "WARNING:absl:Found untraced functions such as lstm_cell_layer_call_fn, lstm_cell_layer_call_and_return_conditional_losses, lstm_cell_1_layer_call_fn, lstm_cell_1_layer_call_and_return_conditional_losses, lstm_cell_layer_call_fn while saving (showing 5 of 10). These functions will not be directly callable after loading.\n",
            "WARNING:absl:Found untraced functions such as lstm_cell_layer_call_fn, lstm_cell_layer_call_and_return_conditional_losses, lstm_cell_1_layer_call_fn, lstm_cell_1_layer_call_and_return_conditional_losses, lstm_cell_layer_call_fn while saving (showing 5 of 10). These functions will not be directly callable after loading.\n"
          ],
          "name": "stderr"
        },
        {
          "output_type": "stream",
          "text": [
            "INFO:tensorflow:Assets written to: model.h1.d1_11_apr_21/assets\n"
          ],
          "name": "stdout"
        },
        {
          "output_type": "stream",
          "text": [
            "INFO:tensorflow:Assets written to: model.h1.d1_11_apr_21/assets\n"
          ],
          "name": "stderr"
        },
        {
          "output_type": "stream",
          "text": [
            "Epoch 3/50\n",
            "63/63 [==============================] - 6s 95ms/step - loss: 0.6448 - val_loss: 0.5615\n",
            "\n",
            "Epoch 00003: val_loss improved from 0.66988 to 0.56149, saving model to model.h1.d1_11_apr_21\n"
          ],
          "name": "stdout"
        },
        {
          "output_type": "stream",
          "text": [
            "WARNING:absl:Found untraced functions such as lstm_cell_layer_call_fn, lstm_cell_layer_call_and_return_conditional_losses, lstm_cell_1_layer_call_fn, lstm_cell_1_layer_call_and_return_conditional_losses, lstm_cell_layer_call_fn while saving (showing 5 of 10). These functions will not be directly callable after loading.\n",
            "WARNING:absl:Found untraced functions such as lstm_cell_layer_call_fn, lstm_cell_layer_call_and_return_conditional_losses, lstm_cell_1_layer_call_fn, lstm_cell_1_layer_call_and_return_conditional_losses, lstm_cell_layer_call_fn while saving (showing 5 of 10). These functions will not be directly callable after loading.\n"
          ],
          "name": "stderr"
        },
        {
          "output_type": "stream",
          "text": [
            "INFO:tensorflow:Assets written to: model.h1.d1_11_apr_21/assets\n"
          ],
          "name": "stdout"
        },
        {
          "output_type": "stream",
          "text": [
            "INFO:tensorflow:Assets written to: model.h1.d1_11_apr_21/assets\n"
          ],
          "name": "stderr"
        },
        {
          "output_type": "stream",
          "text": [
            "Epoch 4/50\n",
            "63/63 [==============================] - 6s 95ms/step - loss: 0.5503 - val_loss: 0.4799\n",
            "\n",
            "Epoch 00004: val_loss improved from 0.56149 to 0.47989, saving model to model.h1.d1_11_apr_21\n"
          ],
          "name": "stdout"
        },
        {
          "output_type": "stream",
          "text": [
            "WARNING:absl:Found untraced functions such as lstm_cell_layer_call_fn, lstm_cell_layer_call_and_return_conditional_losses, lstm_cell_1_layer_call_fn, lstm_cell_1_layer_call_and_return_conditional_losses, lstm_cell_layer_call_fn while saving (showing 5 of 10). These functions will not be directly callable after loading.\n",
            "WARNING:absl:Found untraced functions such as lstm_cell_layer_call_fn, lstm_cell_layer_call_and_return_conditional_losses, lstm_cell_1_layer_call_fn, lstm_cell_1_layer_call_and_return_conditional_losses, lstm_cell_layer_call_fn while saving (showing 5 of 10). These functions will not be directly callable after loading.\n"
          ],
          "name": "stderr"
        },
        {
          "output_type": "stream",
          "text": [
            "INFO:tensorflow:Assets written to: model.h1.d1_11_apr_21/assets\n"
          ],
          "name": "stdout"
        },
        {
          "output_type": "stream",
          "text": [
            "INFO:tensorflow:Assets written to: model.h1.d1_11_apr_21/assets\n"
          ],
          "name": "stderr"
        },
        {
          "output_type": "stream",
          "text": [
            "Epoch 5/50\n",
            "63/63 [==============================] - 6s 95ms/step - loss: 0.4942 - val_loss: 0.4834\n",
            "\n",
            "Epoch 00005: val_loss did not improve from 0.47989\n",
            "Epoch 6/50\n",
            "63/63 [==============================] - 6s 95ms/step - loss: 0.5017 - val_loss: 0.4680\n",
            "\n",
            "Epoch 00006: val_loss improved from 0.47989 to 0.46804, saving model to model.h1.d1_11_apr_21\n"
          ],
          "name": "stdout"
        },
        {
          "output_type": "stream",
          "text": [
            "WARNING:absl:Found untraced functions such as lstm_cell_layer_call_fn, lstm_cell_layer_call_and_return_conditional_losses, lstm_cell_1_layer_call_fn, lstm_cell_1_layer_call_and_return_conditional_losses, lstm_cell_layer_call_fn while saving (showing 5 of 10). These functions will not be directly callable after loading.\n",
            "WARNING:absl:Found untraced functions such as lstm_cell_layer_call_fn, lstm_cell_layer_call_and_return_conditional_losses, lstm_cell_1_layer_call_fn, lstm_cell_1_layer_call_and_return_conditional_losses, lstm_cell_layer_call_fn while saving (showing 5 of 10). These functions will not be directly callable after loading.\n"
          ],
          "name": "stderr"
        },
        {
          "output_type": "stream",
          "text": [
            "INFO:tensorflow:Assets written to: model.h1.d1_11_apr_21/assets\n"
          ],
          "name": "stdout"
        },
        {
          "output_type": "stream",
          "text": [
            "INFO:tensorflow:Assets written to: model.h1.d1_11_apr_21/assets\n"
          ],
          "name": "stderr"
        },
        {
          "output_type": "stream",
          "text": [
            "Epoch 7/50\n",
            "63/63 [==============================] - 6s 97ms/step - loss: 0.4812 - val_loss: 0.4679\n",
            "\n",
            "Epoch 00007: val_loss improved from 0.46804 to 0.46793, saving model to model.h1.d1_11_apr_21\n"
          ],
          "name": "stdout"
        },
        {
          "output_type": "stream",
          "text": [
            "WARNING:absl:Found untraced functions such as lstm_cell_layer_call_fn, lstm_cell_layer_call_and_return_conditional_losses, lstm_cell_1_layer_call_fn, lstm_cell_1_layer_call_and_return_conditional_losses, lstm_cell_layer_call_fn while saving (showing 5 of 10). These functions will not be directly callable after loading.\n",
            "WARNING:absl:Found untraced functions such as lstm_cell_layer_call_fn, lstm_cell_layer_call_and_return_conditional_losses, lstm_cell_1_layer_call_fn, lstm_cell_1_layer_call_and_return_conditional_losses, lstm_cell_layer_call_fn while saving (showing 5 of 10). These functions will not be directly callable after loading.\n"
          ],
          "name": "stderr"
        },
        {
          "output_type": "stream",
          "text": [
            "INFO:tensorflow:Assets written to: model.h1.d1_11_apr_21/assets\n"
          ],
          "name": "stdout"
        },
        {
          "output_type": "stream",
          "text": [
            "INFO:tensorflow:Assets written to: model.h1.d1_11_apr_21/assets\n"
          ],
          "name": "stderr"
        },
        {
          "output_type": "stream",
          "text": [
            "Epoch 8/50\n",
            "63/63 [==============================] - 6s 97ms/step - loss: 0.4659 - val_loss: 0.4587\n",
            "\n",
            "Epoch 00008: val_loss improved from 0.46793 to 0.45870, saving model to model.h1.d1_11_apr_21\n"
          ],
          "name": "stdout"
        },
        {
          "output_type": "stream",
          "text": [
            "WARNING:absl:Found untraced functions such as lstm_cell_layer_call_fn, lstm_cell_layer_call_and_return_conditional_losses, lstm_cell_1_layer_call_fn, lstm_cell_1_layer_call_and_return_conditional_losses, lstm_cell_layer_call_fn while saving (showing 5 of 10). These functions will not be directly callable after loading.\n",
            "WARNING:absl:Found untraced functions such as lstm_cell_layer_call_fn, lstm_cell_layer_call_and_return_conditional_losses, lstm_cell_1_layer_call_fn, lstm_cell_1_layer_call_and_return_conditional_losses, lstm_cell_layer_call_fn while saving (showing 5 of 10). These functions will not be directly callable after loading.\n"
          ],
          "name": "stderr"
        },
        {
          "output_type": "stream",
          "text": [
            "INFO:tensorflow:Assets written to: model.h1.d1_11_apr_21/assets\n"
          ],
          "name": "stdout"
        },
        {
          "output_type": "stream",
          "text": [
            "INFO:tensorflow:Assets written to: model.h1.d1_11_apr_21/assets\n"
          ],
          "name": "stderr"
        },
        {
          "output_type": "stream",
          "text": [
            "Epoch 9/50\n",
            "63/63 [==============================] - 6s 96ms/step - loss: 0.4552 - val_loss: 0.4573\n",
            "\n",
            "Epoch 00009: val_loss improved from 0.45870 to 0.45727, saving model to model.h1.d1_11_apr_21\n"
          ],
          "name": "stdout"
        },
        {
          "output_type": "stream",
          "text": [
            "WARNING:absl:Found untraced functions such as lstm_cell_layer_call_fn, lstm_cell_layer_call_and_return_conditional_losses, lstm_cell_1_layer_call_fn, lstm_cell_1_layer_call_and_return_conditional_losses, lstm_cell_layer_call_fn while saving (showing 5 of 10). These functions will not be directly callable after loading.\n",
            "WARNING:absl:Found untraced functions such as lstm_cell_layer_call_fn, lstm_cell_layer_call_and_return_conditional_losses, lstm_cell_1_layer_call_fn, lstm_cell_1_layer_call_and_return_conditional_losses, lstm_cell_layer_call_fn while saving (showing 5 of 10). These functions will not be directly callable after loading.\n"
          ],
          "name": "stderr"
        },
        {
          "output_type": "stream",
          "text": [
            "INFO:tensorflow:Assets written to: model.h1.d1_11_apr_21/assets\n"
          ],
          "name": "stdout"
        },
        {
          "output_type": "stream",
          "text": [
            "INFO:tensorflow:Assets written to: model.h1.d1_11_apr_21/assets\n"
          ],
          "name": "stderr"
        },
        {
          "output_type": "stream",
          "text": [
            "Epoch 10/50\n",
            "63/63 [==============================] - 6s 97ms/step - loss: 0.4476 - val_loss: 0.4543\n",
            "\n",
            "Epoch 00010: val_loss improved from 0.45727 to 0.45429, saving model to model.h1.d1_11_apr_21\n"
          ],
          "name": "stdout"
        },
        {
          "output_type": "stream",
          "text": [
            "WARNING:absl:Found untraced functions such as lstm_cell_layer_call_fn, lstm_cell_layer_call_and_return_conditional_losses, lstm_cell_1_layer_call_fn, lstm_cell_1_layer_call_and_return_conditional_losses, lstm_cell_layer_call_fn while saving (showing 5 of 10). These functions will not be directly callable after loading.\n",
            "WARNING:absl:Found untraced functions such as lstm_cell_layer_call_fn, lstm_cell_layer_call_and_return_conditional_losses, lstm_cell_1_layer_call_fn, lstm_cell_1_layer_call_and_return_conditional_losses, lstm_cell_layer_call_fn while saving (showing 5 of 10). These functions will not be directly callable after loading.\n"
          ],
          "name": "stderr"
        },
        {
          "output_type": "stream",
          "text": [
            "INFO:tensorflow:Assets written to: model.h1.d1_11_apr_21/assets\n"
          ],
          "name": "stdout"
        },
        {
          "output_type": "stream",
          "text": [
            "INFO:tensorflow:Assets written to: model.h1.d1_11_apr_21/assets\n"
          ],
          "name": "stderr"
        },
        {
          "output_type": "stream",
          "text": [
            "Epoch 11/50\n",
            "63/63 [==============================] - 6s 96ms/step - loss: 0.4457 - val_loss: 0.4535\n",
            "\n",
            "Epoch 00011: val_loss improved from 0.45429 to 0.45347, saving model to model.h1.d1_11_apr_21\n"
          ],
          "name": "stdout"
        },
        {
          "output_type": "stream",
          "text": [
            "WARNING:absl:Found untraced functions such as lstm_cell_layer_call_fn, lstm_cell_layer_call_and_return_conditional_losses, lstm_cell_1_layer_call_fn, lstm_cell_1_layer_call_and_return_conditional_losses, lstm_cell_layer_call_fn while saving (showing 5 of 10). These functions will not be directly callable after loading.\n",
            "WARNING:absl:Found untraced functions such as lstm_cell_layer_call_fn, lstm_cell_layer_call_and_return_conditional_losses, lstm_cell_1_layer_call_fn, lstm_cell_1_layer_call_and_return_conditional_losses, lstm_cell_layer_call_fn while saving (showing 5 of 10). These functions will not be directly callable after loading.\n"
          ],
          "name": "stderr"
        },
        {
          "output_type": "stream",
          "text": [
            "INFO:tensorflow:Assets written to: model.h1.d1_11_apr_21/assets\n"
          ],
          "name": "stdout"
        },
        {
          "output_type": "stream",
          "text": [
            "INFO:tensorflow:Assets written to: model.h1.d1_11_apr_21/assets\n"
          ],
          "name": "stderr"
        },
        {
          "output_type": "stream",
          "text": [
            "Epoch 12/50\n",
            "63/63 [==============================] - 6s 96ms/step - loss: 0.4349 - val_loss: 0.4502\n",
            "\n",
            "Epoch 00012: val_loss improved from 0.45347 to 0.45021, saving model to model.h1.d1_11_apr_21\n"
          ],
          "name": "stdout"
        },
        {
          "output_type": "stream",
          "text": [
            "WARNING:absl:Found untraced functions such as lstm_cell_layer_call_fn, lstm_cell_layer_call_and_return_conditional_losses, lstm_cell_1_layer_call_fn, lstm_cell_1_layer_call_and_return_conditional_losses, lstm_cell_layer_call_fn while saving (showing 5 of 10). These functions will not be directly callable after loading.\n",
            "WARNING:absl:Found untraced functions such as lstm_cell_layer_call_fn, lstm_cell_layer_call_and_return_conditional_losses, lstm_cell_1_layer_call_fn, lstm_cell_1_layer_call_and_return_conditional_losses, lstm_cell_layer_call_fn while saving (showing 5 of 10). These functions will not be directly callable after loading.\n"
          ],
          "name": "stderr"
        },
        {
          "output_type": "stream",
          "text": [
            "INFO:tensorflow:Assets written to: model.h1.d1_11_apr_21/assets\n"
          ],
          "name": "stdout"
        },
        {
          "output_type": "stream",
          "text": [
            "INFO:tensorflow:Assets written to: model.h1.d1_11_apr_21/assets\n"
          ],
          "name": "stderr"
        },
        {
          "output_type": "stream",
          "text": [
            "Epoch 13/50\n",
            "63/63 [==============================] - 6s 96ms/step - loss: 0.4322 - val_loss: 0.4491\n",
            "\n",
            "Epoch 00013: val_loss improved from 0.45021 to 0.44915, saving model to model.h1.d1_11_apr_21\n"
          ],
          "name": "stdout"
        },
        {
          "output_type": "stream",
          "text": [
            "WARNING:absl:Found untraced functions such as lstm_cell_layer_call_fn, lstm_cell_layer_call_and_return_conditional_losses, lstm_cell_1_layer_call_fn, lstm_cell_1_layer_call_and_return_conditional_losses, lstm_cell_layer_call_fn while saving (showing 5 of 10). These functions will not be directly callable after loading.\n",
            "WARNING:absl:Found untraced functions such as lstm_cell_layer_call_fn, lstm_cell_layer_call_and_return_conditional_losses, lstm_cell_1_layer_call_fn, lstm_cell_1_layer_call_and_return_conditional_losses, lstm_cell_layer_call_fn while saving (showing 5 of 10). These functions will not be directly callable after loading.\n"
          ],
          "name": "stderr"
        },
        {
          "output_type": "stream",
          "text": [
            "INFO:tensorflow:Assets written to: model.h1.d1_11_apr_21/assets\n"
          ],
          "name": "stdout"
        },
        {
          "output_type": "stream",
          "text": [
            "INFO:tensorflow:Assets written to: model.h1.d1_11_apr_21/assets\n"
          ],
          "name": "stderr"
        },
        {
          "output_type": "stream",
          "text": [
            "Epoch 14/50\n",
            "63/63 [==============================] - 6s 97ms/step - loss: 0.4292 - val_loss: 0.4510\n",
            "\n",
            "Epoch 00014: val_loss did not improve from 0.44915\n",
            "Epoch 15/50\n",
            "63/63 [==============================] - 6s 95ms/step - loss: 0.4254 - val_loss: 0.4511\n",
            "\n",
            "Epoch 00015: val_loss did not improve from 0.44915\n",
            "Epoch 16/50\n",
            "63/63 [==============================] - 6s 97ms/step - loss: 0.4209 - val_loss: 0.4495\n",
            "\n",
            "Epoch 00016: val_loss did not improve from 0.44915\n",
            "Epoch 17/50\n",
            "63/63 [==============================] - 6s 97ms/step - loss: 0.4192 - val_loss: 0.4500\n",
            "\n",
            "Epoch 00017: val_loss did not improve from 0.44915\n",
            "Epoch 18/50\n",
            "63/63 [==============================] - 6s 96ms/step - loss: 0.4212 - val_loss: 0.4510\n",
            "\n",
            "Epoch 00018: val_loss did not improve from 0.44915\n",
            "Epoch 19/50\n",
            "63/63 [==============================] - 6s 95ms/step - loss: 0.4172 - val_loss: 0.4532\n",
            "\n",
            "Epoch 00019: val_loss did not improve from 0.44915\n",
            "Epoch 20/50\n",
            "63/63 [==============================] - 6s 95ms/step - loss: 0.4140 - val_loss: 0.4500\n",
            "\n",
            "Epoch 00020: val_loss did not improve from 0.44915\n",
            "Epoch 21/50\n",
            "63/63 [==============================] - 6s 94ms/step - loss: 0.4094 - val_loss: 0.4518\n",
            "\n",
            "Epoch 00021: val_loss did not improve from 0.44915\n",
            "Epoch 22/50\n",
            "63/63 [==============================] - 6s 94ms/step - loss: 0.4099 - val_loss: 0.4514\n",
            "\n",
            "Epoch 00022: val_loss did not improve from 0.44915\n",
            "Epoch 23/50\n",
            "63/63 [==============================] - 6s 95ms/step - loss: 0.4066 - val_loss: 0.4523\n",
            "\n",
            "Epoch 00023: val_loss did not improve from 0.44915\n",
            "Epoch 24/50\n",
            "63/63 [==============================] - 6s 95ms/step - loss: 0.4025 - val_loss: 0.4515\n",
            "\n",
            "Epoch 00024: val_loss did not improve from 0.44915\n",
            "Epoch 25/50\n",
            "63/63 [==============================] - 6s 94ms/step - loss: 0.3993 - val_loss: 0.4538\n",
            "\n",
            "Epoch 00025: val_loss did not improve from 0.44915\n",
            "Epoch 26/50\n",
            "63/63 [==============================] - 6s 95ms/step - loss: 0.4026 - val_loss: 0.4517\n",
            "\n",
            "Epoch 00026: val_loss did not improve from 0.44915\n",
            "Epoch 27/50\n",
            "63/63 [==============================] - 6s 94ms/step - loss: 0.3999 - val_loss: 0.4550\n",
            "\n",
            "Epoch 00027: val_loss did not improve from 0.44915\n",
            "Epoch 28/50\n",
            "63/63 [==============================] - 6s 95ms/step - loss: 0.3939 - val_loss: 0.4512\n",
            "\n",
            "Epoch 00028: val_loss did not improve from 0.44915\n",
            "Epoch 29/50\n",
            "63/63 [==============================] - 6s 95ms/step - loss: 0.3935 - val_loss: 0.4546\n",
            "\n",
            "Epoch 00029: val_loss did not improve from 0.44915\n",
            "Epoch 30/50\n",
            "63/63 [==============================] - 6s 95ms/step - loss: 0.3926 - val_loss: 0.4520\n",
            "\n",
            "Epoch 00030: val_loss did not improve from 0.44915\n",
            "Epoch 31/50\n",
            "63/63 [==============================] - 6s 95ms/step - loss: 0.3863 - val_loss: 0.4516\n",
            "\n",
            "Epoch 00031: val_loss did not improve from 0.44915\n",
            "Epoch 32/50\n",
            "63/63 [==============================] - 6s 95ms/step - loss: 0.3846 - val_loss: 0.4513\n",
            "\n",
            "Epoch 00032: val_loss did not improve from 0.44915\n",
            "Epoch 33/50\n",
            "63/63 [==============================] - 6s 95ms/step - loss: 0.3839 - val_loss: 0.4527\n",
            "\n",
            "Epoch 00033: val_loss did not improve from 0.44915\n",
            "Epoch 34/50\n",
            "63/63 [==============================] - 6s 95ms/step - loss: 0.3735 - val_loss: 0.4523\n",
            "\n",
            "Epoch 00034: val_loss did not improve from 0.44915\n",
            "Epoch 35/50\n",
            "63/63 [==============================] - 6s 95ms/step - loss: 0.3756 - val_loss: 0.4508\n",
            "\n",
            "Epoch 00035: val_loss did not improve from 0.44915\n",
            "Epoch 36/50\n",
            "63/63 [==============================] - 6s 94ms/step - loss: 0.3729 - val_loss: 0.4519\n",
            "\n",
            "Epoch 00036: val_loss did not improve from 0.44915\n",
            "Epoch 37/50\n",
            "63/63 [==============================] - 6s 94ms/step - loss: 0.3734 - val_loss: 0.4533\n",
            "\n",
            "Epoch 00037: val_loss did not improve from 0.44915\n",
            "Epoch 38/50\n",
            "63/63 [==============================] - 6s 94ms/step - loss: 0.3722 - val_loss: 0.4575\n",
            "\n",
            "Epoch 00038: val_loss did not improve from 0.44915\n",
            "Epoch 39/50\n",
            "63/63 [==============================] - 6s 94ms/step - loss: 0.3676 - val_loss: 0.4516\n",
            "\n",
            "Epoch 00039: val_loss did not improve from 0.44915\n",
            "Epoch 40/50\n",
            "63/63 [==============================] - 6s 95ms/step - loss: 0.3634 - val_loss: 0.4545\n",
            "\n",
            "Epoch 00040: val_loss did not improve from 0.44915\n",
            "Epoch 41/50\n",
            "63/63 [==============================] - 6s 93ms/step - loss: 0.3631 - val_loss: 0.4511\n",
            "\n",
            "Epoch 00041: val_loss did not improve from 0.44915\n",
            "Epoch 42/50\n",
            "63/63 [==============================] - 6s 95ms/step - loss: 0.3546 - val_loss: 0.4539\n",
            "\n",
            "Epoch 00042: val_loss did not improve from 0.44915\n",
            "Epoch 43/50\n",
            "63/63 [==============================] - 6s 95ms/step - loss: 0.3555 - val_loss: 0.4519\n",
            "\n",
            "Epoch 00043: val_loss did not improve from 0.44915\n",
            "Epoch 44/50\n",
            "63/63 [==============================] - 6s 95ms/step - loss: 0.3530 - val_loss: 0.4512\n",
            "\n",
            "Epoch 00044: val_loss did not improve from 0.44915\n",
            "Epoch 45/50\n",
            "63/63 [==============================] - 6s 95ms/step - loss: 0.3481 - val_loss: 0.4505\n",
            "\n",
            "Epoch 00045: val_loss did not improve from 0.44915\n",
            "Epoch 46/50\n",
            "63/63 [==============================] - 6s 95ms/step - loss: 0.3440 - val_loss: 0.4485\n",
            "\n",
            "Epoch 00046: val_loss improved from 0.44915 to 0.44852, saving model to model.h1.d1_11_apr_21\n"
          ],
          "name": "stdout"
        },
        {
          "output_type": "stream",
          "text": [
            "WARNING:absl:Found untraced functions such as lstm_cell_layer_call_fn, lstm_cell_layer_call_and_return_conditional_losses, lstm_cell_1_layer_call_fn, lstm_cell_1_layer_call_and_return_conditional_losses, lstm_cell_layer_call_fn while saving (showing 5 of 10). These functions will not be directly callable after loading.\n",
            "WARNING:absl:Found untraced functions such as lstm_cell_layer_call_fn, lstm_cell_layer_call_and_return_conditional_losses, lstm_cell_1_layer_call_fn, lstm_cell_1_layer_call_and_return_conditional_losses, lstm_cell_layer_call_fn while saving (showing 5 of 10). These functions will not be directly callable after loading.\n"
          ],
          "name": "stderr"
        },
        {
          "output_type": "stream",
          "text": [
            "INFO:tensorflow:Assets written to: model.h1.d1_11_apr_21/assets\n"
          ],
          "name": "stdout"
        },
        {
          "output_type": "stream",
          "text": [
            "INFO:tensorflow:Assets written to: model.h1.d1_11_apr_21/assets\n"
          ],
          "name": "stderr"
        },
        {
          "output_type": "stream",
          "text": [
            "Epoch 47/50\n",
            "63/63 [==============================] - 6s 94ms/step - loss: 0.3454 - val_loss: 0.4499\n",
            "\n",
            "Epoch 00047: val_loss did not improve from 0.44852\n",
            "Epoch 48/50\n",
            "63/63 [==============================] - 6s 94ms/step - loss: 0.3351 - val_loss: 0.4492\n",
            "\n",
            "Epoch 00048: val_loss did not improve from 0.44852\n",
            "Epoch 49/50\n",
            "63/63 [==============================] - 6s 94ms/step - loss: 0.3324 - val_loss: 0.4472\n",
            "\n",
            "Epoch 00049: val_loss improved from 0.44852 to 0.44720, saving model to model.h1.d1_11_apr_21\n"
          ],
          "name": "stdout"
        },
        {
          "output_type": "stream",
          "text": [
            "WARNING:absl:Found untraced functions such as lstm_cell_layer_call_fn, lstm_cell_layer_call_and_return_conditional_losses, lstm_cell_1_layer_call_fn, lstm_cell_1_layer_call_and_return_conditional_losses, lstm_cell_layer_call_fn while saving (showing 5 of 10). These functions will not be directly callable after loading.\n",
            "WARNING:absl:Found untraced functions such as lstm_cell_layer_call_fn, lstm_cell_layer_call_and_return_conditional_losses, lstm_cell_1_layer_call_fn, lstm_cell_1_layer_call_and_return_conditional_losses, lstm_cell_layer_call_fn while saving (showing 5 of 10). These functions will not be directly callable after loading.\n"
          ],
          "name": "stderr"
        },
        {
          "output_type": "stream",
          "text": [
            "INFO:tensorflow:Assets written to: model.h1.d1_11_apr_21/assets\n"
          ],
          "name": "stdout"
        },
        {
          "output_type": "stream",
          "text": [
            "INFO:tensorflow:Assets written to: model.h1.d1_11_apr_21/assets\n"
          ],
          "name": "stderr"
        },
        {
          "output_type": "stream",
          "text": [
            "Epoch 50/50\n",
            "63/63 [==============================] - 6s 95ms/step - loss: 0.3297 - val_loss: 0.4462\n",
            "\n",
            "Epoch 00050: val_loss improved from 0.44720 to 0.44620, saving model to model.h1.d1_11_apr_21\n"
          ],
          "name": "stdout"
        },
        {
          "output_type": "stream",
          "text": [
            "WARNING:absl:Found untraced functions such as lstm_cell_layer_call_fn, lstm_cell_layer_call_and_return_conditional_losses, lstm_cell_1_layer_call_fn, lstm_cell_1_layer_call_and_return_conditional_losses, lstm_cell_layer_call_fn while saving (showing 5 of 10). These functions will not be directly callable after loading.\n",
            "WARNING:absl:Found untraced functions such as lstm_cell_layer_call_fn, lstm_cell_layer_call_and_return_conditional_losses, lstm_cell_1_layer_call_fn, lstm_cell_1_layer_call_and_return_conditional_losses, lstm_cell_layer_call_fn while saving (showing 5 of 10). These functions will not be directly callable after loading.\n"
          ],
          "name": "stderr"
        },
        {
          "output_type": "stream",
          "text": [
            "INFO:tensorflow:Assets written to: model.h1.d1_11_apr_21/assets\n"
          ],
          "name": "stdout"
        },
        {
          "output_type": "stream",
          "text": [
            "INFO:tensorflow:Assets written to: model.h1.d1_11_apr_21/assets\n",
            "WARNING:absl:Found untraced functions such as lstm_cell_layer_call_fn, lstm_cell_layer_call_and_return_conditional_losses, lstm_cell_1_layer_call_fn, lstm_cell_1_layer_call_and_return_conditional_losses, lstm_cell_layer_call_fn while saving (showing 5 of 10). These functions will not be directly callable after loading.\n",
            "WARNING:absl:Found untraced functions such as lstm_cell_layer_call_fn, lstm_cell_layer_call_and_return_conditional_losses, lstm_cell_1_layer_call_fn, lstm_cell_1_layer_call_and_return_conditional_losses, lstm_cell_layer_call_fn while saving (showing 5 of 10). These functions will not be directly callable after loading.\n"
          ],
          "name": "stderr"
        },
        {
          "output_type": "stream",
          "text": [
            "INFO:tensorflow:Assets written to: model.h1.d1_11_apr_21/assets\n"
          ],
          "name": "stdout"
        },
        {
          "output_type": "stream",
          "text": [
            "INFO:tensorflow:Assets written to: model.h1.d1_11_apr_21/assets\n"
          ],
          "name": "stderr"
        },
        {
          "output_type": "display_data",
          "data": {
            "image/png": "[encoded data removed]",
            "text/plain": [
              "<Figure size 432x288 with 1 Axes>"
            ]
          },
          "metadata": {
            "tags": [],
            "needs_background": "light"
          }
        }
      ]
    },
    {
      "cell_type": "code",
      "metadata": {
        "id": "XUYfWWBw_waz",
        "colab": {
          "base_uri": "https://localhost:8080/"
        },
        "outputId": "2405b7b3-77dc-4d25-9fa0-2cd6ca3acc49"
      },
      "source": [
        "from google.colab import drive\n",
        "drive.mount('/content/gdrive')\n",
        "root = '/content/gdrive/MyDrive/Colab Notebooks/CMPUT566/'\n",
        "\n",
        "import keras\n",
        "from keras.models import load_model\n",
        "import pickle\n",
        "import pandas as pd\n",
        "\n",
        "\n",
        "def load(model_name):\n",
        "    return load_model(model_name)\n",
        "\n",
        "def get_word(n, tokenizer):\n",
        "    for word, index in tokenizer.word_index.items():\n",
        "        if index == n:\n",
        "            return word\n",
        "    return None\n",
        "\n",
        "def predicted_text(preds, out_tok):\n",
        "    pred_text = []\n",
        "    for i in preds:\n",
        "        temp = []\n",
        "        for j in range(len(i)):\n",
        "            t = get_word(i[j], out_tok)\n",
        "            if j > 0:\n",
        "                if (t == get_word(i[j-1], out_tok) or t == None):\n",
        "                    temp.append('')\n",
        "                else:\n",
        "                    temp.append(t)\n",
        "            else:\n",
        "                if t == None:\n",
        "                    temp.append('')\n",
        "                else:\n",
        "                    temp.append(t)\n",
        "        pred_text.append(' '.join(temp))\n",
        "    return pred_text\n",
        "\n",
        "\n",
        "model = load('model.h1.d1_11_apr_21')\n",
        "\n",
        "preds = model.predict_classes(test_eng_enc_seq, batch_size = 2048)\n",
        "\n",
        "pred_text = predicted_text(preds, port_tok)\n",
        "actc_text = predicted_text(test_port_enc_seq, port_tok)\n",
        "\n",
        "pred_df = pd.DataFrame({'actual' : actc_text, 'predicted' : pred_text})\n",
        "pred_df.sample(15)"
      ],
      "execution_count": null,
      "outputs": [
        {
          "output_type": "stream",
          "text": [
            "Drive already mounted at /content/gdrive; to attempt to forcibly remount, call drive.mount(\"/content/gdrive\", force_remount=True).\n"
          ],
          "name": "stdout"
        },
        {
          "output_type": "stream",
          "text": [
            "/usr/local/lib/python3.7/dist-packages/tensorflow/python/keras/engine/sequential.py:450: UserWarning: `model.predict_classes()` is deprecated and will be removed after 2021-01-01. Please use instead:* `np.argmax(model.predict(x), axis=-1)`,   if your model does multi-class classification   (e.g. if it uses a `softmax` last-layer activation).* `(model.predict(x) > 0.5).astype(\"int32\")`,   if your model does binary classification   (e.g. if it uses a `sigmoid` last-layer activation).\n",
            "  warnings.warn('`model.predict_classes()` is deprecated and '\n"
          ],
          "name": "stderr"
        }
      ]
    }
  ]
}